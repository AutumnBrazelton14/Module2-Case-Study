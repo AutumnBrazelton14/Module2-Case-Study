{
 "cells": [
  {
   "cell_type": "code",
   "execution_count": null,
   "id": "20f5af53-23c4-400c-9d76-901e82e6b49e",
   "metadata": {},
   "outputs": [
    {
     "name": "stdin",
     "output_type": "stream",
     "text": [
      "Enter student's last name (or 'ZZZ' to quit):  Brazelton\n",
      "Enter student's first name:  Autumn\n",
      "Enter student's GPA:  3.5\n"
     ]
    },
    {
     "name": "stdout",
     "output_type": "stream",
     "text": [
      "Autumn Brazelton has made the Dean's List.\n",
      "\n"
     ]
    },
    {
     "name": "stdin",
     "output_type": "stream",
     "text": [
      "Enter student's last name (or 'ZZZ' to quit):  Short\n",
      "Enter student's first name:  Declan\n",
      "Enter student's GPA:  2.1\n"
     ]
    },
    {
     "name": "stdout",
     "output_type": "stream",
     "text": [
      "Declan Short does not qualify for Dean's List or Honor Roll.\n",
      "\n"
     ]
    },
    {
     "name": "stdin",
     "output_type": "stream",
     "text": [
      "Enter student's last name (or 'ZZZ' to quit):  Biden\n",
      "Enter student's first name:  Joe\n",
      "Enter student's GPA:  3.78\n"
     ]
    },
    {
     "name": "stdout",
     "output_type": "stream",
     "text": [
      "Joe Biden has made the Dean's List.\n",
      "\n"
     ]
    },
    {
     "name": "stdin",
     "output_type": "stream",
     "text": [
      "Enter student's last name (or 'ZZZ' to quit):  Adam\n",
      "Enter student's first name:  James\n",
      "Enter student's GPA:  3.32\n"
     ]
    },
    {
     "name": "stdout",
     "output_type": "stream",
     "text": [
      "James Adam has made the Honor Roll.\n",
      "\n"
     ]
    },
    {
     "name": "stdin",
     "output_type": "stream",
     "text": [
      "Enter student's last name (or 'ZZZ' to quit):  LeAnn\n",
      "Enter student's first name:  Stephanie\n",
      "Enter student's GPA:  4.2\n"
     ]
    },
    {
     "name": "stdout",
     "output_type": "stream",
     "text": [
      "Stephanie LeAnn has made the Dean's List.\n",
      "\n"
     ]
    }
   ],
   "source": [
    "#Created by: Autumn Brazelton\n",
    "#Module2Lab-CaseStudy\n",
    "# Student GPA Evaluation App- This app allows the user to input a student's name and GPA\n",
    "# then determine if that student made Honor Roll, \n",
    "\n",
    "while True:\n",
    "    # Ask for and accept student's last name\n",
    "    last_name = input(\"Enter student's last name (or 'ZZZ' to quit): \")\n",
    "    \n",
    "    # Check if we should quit\n",
    "    if last_name == 'ZZZ':\n",
    "        print(\"Exiting the program.\")\n",
    "        break\n",
    "    \n",
    "    # Ask for and accept student's first name\n",
    "    first_name = input(\"Enter student's first name: \")\n",
    "    \n",
    "    # Ask for and accept student's GPA\n",
    "    while True:\n",
    "        try:\n",
    "            gpa = float(input(\"Enter student's GPA: \"))\n",
    "            break\n",
    "        except ValueError:\n",
    "            print(\"Invalid input. Please enter a valid number for GPA.\")\n",
    "    \n",
    "    # Test GPA and print appropriate message\n",
    "    if gpa >= 3.5:\n",
    "        print(f\"{first_name} {last_name} has made the Dean's List.\")\n",
    "    elif gpa >= 3.25:\n",
    "        print(f\"{first_name} {last_name} has made the Honor Roll.\")\n",
    "    else:\n",
    "        print(f\"{first_name} {last_name} does not qualify for Dean's List or Honor Roll.\")\n",
    "    \n",
    "    print()  # Print a blank line for readability between students\n",
    "\n",
    "print(\"Program finished.\")"
   ]
  },
  {
   "cell_type": "code",
   "execution_count": null,
   "id": "1e568565-b0eb-4ef6-b910-ece0a27b5f2f",
   "metadata": {},
   "outputs": [],
   "source": []
  }
 ],
 "metadata": {
  "kernelspec": {
   "display_name": "Python 3 (ipykernel)",
   "language": "python",
   "name": "python3"
  },
  "language_info": {
   "codemirror_mode": {
    "name": "ipython",
    "version": 3
   },
   "file_extension": ".py",
   "mimetype": "text/x-python",
   "name": "python",
   "nbconvert_exporter": "python",
   "pygments_lexer": "ipython3",
   "version": "3.12.4"
  }
 },
 "nbformat": 4,
 "nbformat_minor": 5
}
